{
 "cells": [
  {
   "cell_type": "code",
   "execution_count": 1,
   "id": "c8c3cb06-ed64-43c8-b6a3-fa6f1741fb9c",
   "metadata": {},
   "outputs": [],
   "source": [
    "import numpy as np\n",
    "import pandas as pd\n",
    "import warnings\n",
    "from sklearn import linear_model, svm, naive_bayes, model_selection"
   ]
  },
  {
   "cell_type": "code",
   "execution_count": 2,
   "id": "5c1a2bcc-4d85-4123-b775-a1f216b1454b",
   "metadata": {},
   "outputs": [],
   "source": [
    "SEED = 57\n",
    "TRAIN_DATASET_PATH = '~/Documents/ML-DL/imdb_review_classification/train.csv'\n",
    "VALID_DATASET_PATH = '~/Documents/ML-DL/imdb_review_classification/valid.csv'\n",
    "warnings.filterwarnings('ignore')"
   ]
  },
  {
   "cell_type": "code",
   "execution_count": 3,
   "id": "2287b4f9-2d4c-4116-86f8-a98f61bb9b06",
   "metadata": {},
   "outputs": [],
   "source": [
    "classifiers = {\n",
    "    'lr': linear_model.LogisticRegression,\n",
    "    # 'svc': SVC, # too slow!!!\n",
    "    'lsvc': svm.LinearSVC,\n",
    "    'mnb': naive_bayes.MultinomialNB,\n",
    "    # 'knn': KNeighborsClassifier, # too slow!!!\n",
    "    # 'dt': DecisionTreeClassifier, # doesn't work\n",
    "    # 'rf': RandomForestClassifier, # doesn't work\n",
    "    # 'ada': AdaBoostClassifier, # too slow!!!\n",
    "    # 'gb': GradientBoostingClassifier, # too slow!!!\n",
    "    'sgd': linear_model.SGDClassifier\n",
    "}\n",
    "\n",
    "classifiers_params = {\n",
    "    'lr': {\n",
    "        'C': np.logspace(-3, 3, 7)\n",
    "    },\n",
    "    'svc': {\n",
    "        'C': np.logspace(-3, 3, 7),\n",
    "        'gamma': np.logspace(-3, 1, 5)\n",
    "    },\n",
    "    'lsvc': {\n",
    "        'C': np.logspace(-3, 3, 7)\n",
    "    },\n",
    "    'mnb': {\n",
    "        'alpha': np.linspace(0, 1, 11)\n",
    "    },\n",
    "    'knn': {\n",
    "        'n_neighbors': np.linspace(3, 7, 5, dtype=int)\n",
    "    },\n",
    "    'dt': {\n",
    "        'criterion': [\"gini\", \"entropy\", \"log_loss\"],\n",
    "        'min_samples_leaf': [0.1],\n",
    "        'max_depth': np.linspace(3, 7, 5, dtype=int)\n",
    "    },\n",
    "    'rf': {\n",
    "        ''\n",
    "        'criterion': [\"gini\", \"entropy\", \"log_loss\"],\n",
    "        'min_samples_leaf': [0.1],\n",
    "        'max_depth': np.linspace(3, 7, 5, dtype=int),\n",
    "        'n_estimators': np.linspace(50, 300, 6, dtype=int)\n",
    "    },\n",
    "    'ada': {\n",
    "        'n_estimators': np.linspace(50, 300, 6, dtype=int)\n",
    "    },\n",
    "    'gb': {\n",
    "        'n_estimators': np.linspace(50, 300, 6, dtype=int),\n",
    "        'min_samples_leaf': [0.1],\n",
    "    },\n",
    "    'sgd': {\n",
    "        'penalty' : ['l2', 'l1', 'elasticnet'],\n",
    "        'alpha': np.logspace(-7, -1, 7)\n",
    "    }\n",
    "}"
   ]
  },
  {
   "cell_type": "code",
   "execution_count": 4,
   "id": "f1de8f7f-5a4f-4db1-ac0e-0419d541f3f4",
   "metadata": {},
   "outputs": [],
   "source": [
    "df_tr = pd.read_csv(TRAIN_DATASET_PATH)\n",
    "df_vl = pd.read_csv(VALID_DATASET_PATH)"
   ]
  },
  {
   "cell_type": "code",
   "execution_count": 5,
   "id": "ae6ae33a-caa5-4e71-ac72-4b817c84956f",
   "metadata": {},
   "outputs": [],
   "source": [
    "x_train, y_train = df_tr.drop(columns=['sentiment']), df_tr.sentiment\n",
    "x_valid, y_valid = df_vl.drop(columns=['sentiment']), df_vl.sentiment"
   ]
  },
  {
   "cell_type": "code",
   "execution_count": 6,
   "id": "d09428b3-f13d-4ec0-876d-583352860174",
   "metadata": {},
   "outputs": [
    {
     "name": "stdout",
     "output_type": "stream",
     "text": [
      "lr {'C': 0.001} 0.8121\n",
      "lr {'C': 0.01} 0.8378\n",
      "lr {'C': 0.1} 0.866\n",
      "lr {'C': 1.0} 0.8761\n",
      "lr {'C': 10.0} 0.8723\n",
      "lr {'C': 100.0} 0.8702\n",
      "lr {'C': 1000.0} 0.8701\n",
      "lsvc {'C': 0.001} 0.8351\n",
      "lsvc {'C': 0.01} 0.8669\n",
      "lsvc {'C': 0.1} 0.8761\n",
      "lsvc {'C': 1.0} 0.8708\n",
      "lsvc {'C': 10.0} 0.8712\n",
      "lsvc {'C': 100.0} 0.8677\n",
      "lsvc {'C': 1000.0} 0.8262\n",
      "mnb {'alpha': 0.0} 0.8481\n",
      "mnb {'alpha': 0.1} 0.8481\n",
      "mnb {'alpha': 0.2} 0.8481\n",
      "mnb {'alpha': 0.30000000000000004} 0.848\n",
      "mnb {'alpha': 0.4} 0.848\n",
      "mnb {'alpha': 0.5} 0.848\n",
      "mnb {'alpha': 0.6000000000000001} 0.848\n",
      "mnb {'alpha': 0.7000000000000001} 0.8479\n",
      "mnb {'alpha': 0.8} 0.8478\n",
      "mnb {'alpha': 0.9} 0.8479\n",
      "mnb {'alpha': 1.0} 0.8479\n",
      "sgd {'alpha': 1e-07, 'penalty': 'l2'} 0.8021\n",
      "sgd {'alpha': 1e-07, 'penalty': 'l1'} 0.7879\n",
      "sgd {'alpha': 1e-07, 'penalty': 'elasticnet'} 0.8633\n",
      "sgd {'alpha': 1e-06, 'penalty': 'l2'} 0.8541\n",
      "sgd {'alpha': 1e-06, 'penalty': 'l1'} 0.8624\n",
      "sgd {'alpha': 1e-06, 'penalty': 'elasticnet'} 0.8688\n",
      "sgd {'alpha': 1e-05, 'penalty': 'l2'} 0.8681\n",
      "sgd {'alpha': 1e-05, 'penalty': 'l1'} 0.8649\n",
      "sgd {'alpha': 1e-05, 'penalty': 'elasticnet'} 0.8665\n",
      "sgd {'alpha': 0.0001, 'penalty': 'l2'} 0.8726\n",
      "sgd {'alpha': 0.0001, 'penalty': 'l1'} 0.87\n",
      "sgd {'alpha': 0.0001, 'penalty': 'elasticnet'} 0.8748\n",
      "sgd {'alpha': 0.001, 'penalty': 'l2'} 0.8602\n",
      "sgd {'alpha': 0.001, 'penalty': 'l1'} 0.7922\n",
      "sgd {'alpha': 0.001, 'penalty': 'elasticnet'} 0.8546\n",
      "sgd {'alpha': 0.01, 'penalty': 'l2'} 0.7667\n",
      "sgd {'alpha': 0.01, 'penalty': 'l1'} 0.6175\n",
      "sgd {'alpha': 0.01, 'penalty': 'elasticnet'} 0.7528\n",
      "sgd {'alpha': 0.1, 'penalty': 'l2'} 0.5\n",
      "sgd {'alpha': 0.1, 'penalty': 'l1'} 0.5\n",
      "sgd {'alpha': 0.1, 'penalty': 'elasticnet'} 0.5\n"
     ]
    }
   ],
   "source": [
    "for classifier_name, classifier in classifiers.items():\n",
    "    for params in model_selection.ParameterGrid(classifiers_params[classifier_name]):\n",
    "        model = classifier(**params)\n",
    "        model.fit(x_train, y_train)\n",
    "        acc = model.score(x_valid, y_valid)\n",
    "        print(classifier_name, params, acc)"
   ]
  },
  {
   "cell_type": "markdown",
   "id": "0f834531-028e-4b8d-b064-05d580d282b0",
   "metadata": {
    "tags": []
   },
   "source": [
    "### Best model\n",
    "lr {'C': 1.0} with 0.8761 accuracy"
   ]
  },
  {
   "cell_type": "code",
   "execution_count": null,
   "id": "862e26d9-caf7-4a1f-a43c-90af51a01331",
   "metadata": {},
   "outputs": [],
   "source": []
  }
 ],
 "metadata": {
  "kernelspec": {
   "display_name": "Python 3 (ipykernel)",
   "language": "python",
   "name": "python3"
  },
  "language_info": {
   "codemirror_mode": {
    "name": "ipython",
    "version": 3
   },
   "file_extension": ".py",
   "mimetype": "text/x-python",
   "name": "python",
   "nbconvert_exporter": "python",
   "pygments_lexer": "ipython3",
   "version": "3.10.6"
  }
 },
 "nbformat": 4,
 "nbformat_minor": 5
}
